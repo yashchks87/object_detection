{
 "cells": [
  {
   "cell_type": "code",
   "execution_count": 42,
   "metadata": {},
   "outputs": [],
   "source": [
    "import pandas as pd\n",
    "import numpy as np\n",
    "import scipy.io\n",
    "import datetime\n",
    "import os"
   ]
  },
  {
   "cell_type": "code",
   "execution_count": 2,
   "metadata": {},
   "outputs": [],
   "source": [
    "mat = scipy.io.loadmat('../../IMDB_WIKI/wiki/wiki.mat')"
   ]
  },
  {
   "cell_type": "code",
   "execution_count": 3,
   "metadata": {},
   "outputs": [],
   "source": [
    "# python_datetime = datetime.fromordinal(int(matlab_datenum)) + timedelta(days=matlab_datenum%1) - timedelta(days = 366)"
   ]
  },
  {
   "cell_type": "code",
   "execution_count": 4,
   "metadata": {},
   "outputs": [
    {
     "data": {
      "text/plain": [
       "array([[array([[111.29109473, 111.29109473, 252.66993082, 252.66993082]]),\n",
       "        array([[252.4833023 , 126.68165115, 354.53192596, 228.73027481]]),\n",
       "        array([[113.52, 169.84, 366.08, 422.4 ]]), ...,\n",
       "        array([[169.88839786,  74.31669472, 235.2534231 , 139.68171997]]),\n",
       "        array([[1, 1, 1, 1]], dtype=uint8),\n",
       "        array([[ 92.72633235,  62.0435549 , 230.12083087, 199.43805342]])]],\n",
       "      dtype=object)"
      ]
     },
     "execution_count": 4,
     "metadata": {},
     "output_type": "execute_result"
    }
   ],
   "source": [
    "mat['wiki'][0][0][5]"
   ]
  },
  {
   "cell_type": "code",
   "execution_count": 5,
   "metadata": {},
   "outputs": [],
   "source": [
    "dob = mat['wiki'][0][0][0]\n",
    "photo_taken_year = mat['wiki'][0][0][1]\n",
    "full_path = mat['wiki'][0][0][2]\n",
    "gender = mat['wiki'][0][0][3]\n",
    "name = mat['wiki'][0][0][4]\n",
    "face_location = mat['wiki'][0][0][5]\n",
    "face_score = mat['wiki'][0][0][6]\n",
    "second_face_score = mat['wiki'][0][0][7]"
   ]
  },
  {
   "cell_type": "code",
   "execution_count": 6,
   "metadata": {},
   "outputs": [
    {
     "data": {
      "text/plain": [
       "array([[723671, 703186, 711677, ..., 720620, 723893, 713846]], dtype=int32)"
      ]
     },
     "execution_count": 6,
     "metadata": {},
     "output_type": "execute_result"
    }
   ],
   "source": [
    "dob"
   ]
  },
  {
   "cell_type": "code",
   "execution_count": 43,
   "metadata": {},
   "outputs": [],
   "source": [
    "class ExtractData():\n",
    "    def __init__(self, mat_file):\n",
    "        self.mat = mat_file\n",
    "        self.mat = scipy.io.loadmat(mat_file)\n",
    "        self.get_data()\n",
    "\n",
    "    def get_data(self):\n",
    "        self.dob = self.mat['wiki'][0][0][0]\n",
    "        self.photo_taken_year = self.mat['wiki'][0][0][1][0]\n",
    "        self.full_path = self.mat['wiki'][0][0][2]\n",
    "        self.gender = self.mat['wiki'][0][0][3]\n",
    "        self.name = self.mat['wiki'][0][0][4]\n",
    "        self.face_location = self.mat['wiki'][0][0][5]\n",
    "        self.face_score = self.mat['wiki'][0][0][6]\n",
    "        self.second_face_score = self.mat['wiki'][0][0][7]\n",
    "\n",
    "    def exchange_date(self):\n",
    "        dates = []\n",
    "        for mat_date in self.dob[0]:\n",
    "            mat_date = int(mat_date)\n",
    "            date_conversion = datetime.date.fromordinal(int(mat_date)) + datetime.timedelta(days=mat_date%1) - datetime.timedelta(days = 366)\n",
    "            dates.append(date_conversion)\n",
    "        self.date_converted = np.array(dates)\n",
    "    \n",
    "    def full_path_fix(self):\n",
    "        paths = []\n",
    "        for x in self.full_path[0]:\n",
    "            paths.append(x[0])\n",
    "        self.paths = np.array(paths)\n",
    "\n",
    "    def fix_gender(self):\n",
    "        genders = []\n",
    "        for x in self.gender[0]:\n",
    "            try:\n",
    "                if int(x) == 1:\n",
    "                    genders.append('M')\n",
    "                elif int(x) == 0:\n",
    "                    genders.append('F')\n",
    "            except:\n",
    "                genders.append('N')\n",
    "        self.gender = np.array(genders)\n",
    "    \n",
    "    def fix_name(self):\n",
    "        name = []\n",
    "        for x in self.name[0]:\n",
    "            try:\n",
    "                name.append(x[0])\n",
    "            except:\n",
    "                name.append(None)\n",
    "        self.name = np.array(name)\n",
    "    \n",
    "    def fix_s_score(self):\n",
    "        second_score = []\n",
    "        for x in self.second_face_score[0]:\n",
    "            if np.isnan(x) == True:\n",
    "                second_score.append(None)\n",
    "            else:\n",
    "                second_score.append(x)\n",
    "        self.second_face_score = np.array(second_score)\n",
    "    \n",
    "    def fix_f_score(self):\n",
    "        face_score = []\n",
    "        for x in self.face_score[0]:\n",
    "            if np.isnan(x) == True:\n",
    "                face_score.append(None)\n",
    "            else:\n",
    "                face_score.append(x)\n",
    "        self.face_score = np.array(face_score)\n",
    "    \n",
    "    def extract_face_location(self):\n",
    "        face_location_1 = []\n",
    "        face_location_2 = []\n",
    "        for x in self.face_location[0]:\n",
    "            if len(x) == 1:\n",
    "                face_location_1.append(f'{str(x[0][0])}, {str(x[0][1])}, {str(x[0][2])}, {str(x[0][3])}')\n",
    "            else:\n",
    "                face_location_1.append(f'{str(x[0][0])}, {str(x[0][1])}, {str(x[0][2])}, {str(x[0][3])}')\n",
    "                face_location_2.append(f'{str(x[1][0])}, {str(x[1][1])}, {str(x[1][2])}, {str(x[1][3])}')\n",
    "        self.face_location_1 = np.array(face_location_1)\n",
    "\n",
    "    def create_dataFrame(self, csv_path, csv_file):\n",
    "        self.exchange_date()\n",
    "        self.full_path_fix()\n",
    "        self.fix_gender()\n",
    "        self.fix_name()\n",
    "        self.fix_s_score()\n",
    "        self.fix_f_score()\n",
    "        self.extract_face_location()\n",
    "        final_frame = pd.DataFrame({\n",
    "            'img_path': self.paths,\n",
    "            'dob': self.date_converted,\n",
    "            'photo_taken_year': self.photo_taken_year,\n",
    "            'gender': self.gender,\n",
    "            'name': self.name,\n",
    "            'face_location' : self.face_location_1,\n",
    "            'face_score' : self.face_score\n",
    "        })\n",
    "        if os.path.exists(csv_path) == False:\n",
    "            os.makedirs(csv_path)\n",
    "        final_frame.to_csv(f'{csv_path}{csv_file}')"
   ]
  },
  {
   "cell_type": "code",
   "execution_count": 50,
   "metadata": {},
   "outputs": [],
   "source": [
    "obj = ExtractData('../../IMDB_WIKI/wiki/wiki.mat')"
   ]
  },
  {
   "cell_type": "code",
   "execution_count": 45,
   "metadata": {},
   "outputs": [],
   "source": [
    "obj.create_dataFrame('./','temp.csv')"
   ]
  },
  {
   "cell_type": "code",
   "execution_count": null,
   "metadata": {},
   "outputs": [],
   "source": []
  },
  {
   "cell_type": "code",
   "execution_count": null,
   "metadata": {},
   "outputs": [],
   "source": []
  },
  {
   "cell_type": "code",
   "execution_count": null,
   "metadata": {},
   "outputs": [],
   "source": []
  },
  {
   "cell_type": "code",
   "execution_count": null,
   "metadata": {},
   "outputs": [],
   "source": []
  }
 ],
 "metadata": {
  "kernelspec": {
   "display_name": "base_env",
   "language": "python",
   "name": "base_env"
  },
  "language_info": {
   "codemirror_mode": {
    "name": "ipython",
    "version": 3
   },
   "file_extension": ".py",
   "mimetype": "text/x-python",
   "name": "python",
   "nbconvert_exporter": "python",
   "pygments_lexer": "ipython3",
   "version": "3.9.16"
  },
  "orig_nbformat": 4
 },
 "nbformat": 4,
 "nbformat_minor": 2
}
