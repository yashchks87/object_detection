{
 "cells": [
  {
   "cell_type": "code",
   "execution_count": 84,
   "id": "59839ebb-a1e7-4fb8-b821-df4fd98d8b53",
   "metadata": {},
   "outputs": [],
   "source": [
    "import tqdm\n",
    "import torch, cv2\n",
    "import numpy as np\n",
    "import matplotlib.pyplot as plt\n",
    "\n",
    "from PIL import Image\n",
    "from torchvision.ops import box_iou\n",
    "import sys\n",
    "sys.path.append('../scripts/')\n",
    "from resize_boxes import resize_values\n",
    "from tqdm import tqdm\n",
    "import time\n",
    "import pickle"
   ]
  },
  {
   "cell_type": "code",
   "execution_count": 19,
   "id": "f838165f-389a-4c8d-97cb-0bdbcbcf44cc",
   "metadata": {},
   "outputs": [
    {
     "name": "stderr",
     "output_type": "stream",
     "text": [
      "<ipython-input-19-3b23cd042992>:3: DeprecationWarning: loadtxt(): Parsing an integer via a float is deprecated.  To avoid this warning, you can:\n",
      "    * make sure the original data is stored as integers.\n",
      "    * use the `converters=` keyword argument.  If you only use\n",
      "      NumPy 1.23 or later, `converters=float` will normally work.\n",
      "    * Use `np.loadtxt(...).astype(np.int64)` parsing the file as\n",
      "      floating point and then convert it.  (On all NumPy versions.)\n",
      "  (Deprecated NumPy 1.23)\n",
      "  bboxes = np.loadtxt(bboxes_file_path, dtype=int, delimiter=\" \", ndmin=2)[:, 1:] # Take only x, y, w, h\n"
     ]
    }
   ],
   "source": [
    "image_paths = np.loadtxt('../../data/CUB_200_2011/images.txt', dtype=str) # all image paths\n",
    "bboxes_file_path = \"../../data/CUB_200_2011/bounding_boxes.txt\"\n",
    "bboxes = np.loadtxt(bboxes_file_path, dtype=int, delimiter=\" \", ndmin=2)[:, 1:] # Take only x, y, w, h \n",
    "# bboxes[:, 2] = bboxes[:, 2] + bboxes[:, 0] # get corner point\n",
    "# bboxes[:, 3] = bboxes[:, 3] + bboxes[:, 1] # get corner point"
   ]
  },
  {
   "cell_type": "code",
   "execution_count": 30,
   "id": "6f93c0fd-46b8-4ca3-b03e-92be11c81255",
   "metadata": {},
   "outputs": [
    {
     "name": "stderr",
     "output_type": "stream",
     "text": [
      "100%|██████████| 11788/11788 [00:22<00:00, 530.91it/s]\n"
     ]
    }
   ],
   "source": [
    "updated_boxes = []\n",
    "for x in tqdm(range(len(image_paths))):\n",
    "    # print('../../data/CUB_200_2011/images/'+ image_paths[x][1])\n",
    "    img = np.array(PIL.Image.open('../../data/CUB_200_2011/images/'+ image_paths[x][1]))\n",
    "    updated_boxes.append(resize_values(bboxes[x], img.shape, (416, 416), return_old_box=False))"
   ]
  },
  {
   "cell_type": "code",
   "execution_count": 31,
   "id": "b23285c6-e606-4b36-80f4-f6173b89ff74",
   "metadata": {},
   "outputs": [
    {
     "data": {
      "text/plain": [
       "[49.92, 33.528358208955225, 220.48000000000002, 343.9761194029851]"
      ]
     },
     "execution_count": 31,
     "metadata": {},
     "output_type": "execute_result"
    }
   ],
   "source": [
    "updated_boxes[0]"
   ]
  },
  {
   "cell_type": "code",
   "execution_count": 32,
   "id": "e15a47f9-a43a-4b51-956a-64b72b5c37a3",
   "metadata": {},
   "outputs": [],
   "source": [
    "updated_boxes = torch.Tensor(updated_boxes)"
   ]
  },
  {
   "cell_type": "code",
   "execution_count": 70,
   "id": "a6cf5545-d3fa-4875-81db-1cec41dea487",
   "metadata": {},
   "outputs": [],
   "source": [
    "def IoU(clusters: torch.tensor, bboxes: torch.tensor):\n",
    "    iou_values = box_iou(clusters, bboxes)\n",
    "    return iou_values"
   ]
  },
  {
   "cell_type": "code",
   "execution_count": 87,
   "id": "6572327a-13b1-479f-aec5-90832f185b67",
   "metadata": {},
   "outputs": [],
   "source": [
    "def KMeans(bboxes:torch.tensor, k:int, dist=torch.mean, stop_iter=4):\n",
    "    rows = bboxes.shape[0]\n",
    "    distances = torch.empty((rows, k))\n",
    "    last_clusters = torch.zeros((rows, ))\n",
    "\n",
    "#   We will randomly pick them and tell them they are the cluster centroids.....\n",
    "    cluster_indxs = np.random.choice(rows, k, replace=False) # choose unique indexs in rows\n",
    "    clusters = bboxes[cluster_indxs].clone()\n",
    "\n",
    "    iteration = 0\n",
    "    while True:\n",
    "        # calculate the distances \n",
    "        distances = IoU(bboxes, clusters)\n",
    "\n",
    "        nearest_clusters = torch.argmax(distances, dim=1) # 0, 1, 2 ... K   \n",
    "\n",
    "        if (last_clusters == nearest_clusters).all(): # break if nothing changes\n",
    "            iteration += 1\n",
    "            if iteration == stop_iter:\n",
    "                break\n",
    "        else:\n",
    "            iteration = 0\n",
    "        # Take the mean and step for cluster coordiantes \n",
    "        for cluster in range(k):\n",
    "            clusters[cluster] = torch.mean(bboxes[nearest_clusters == cluster], axis=0)\n",
    "\n",
    "        last_clusters = nearest_clusters.clone()\n",
    "    return clusters, distances"
   ]
  },
  {
   "cell_type": "code",
   "execution_count": 88,
   "id": "b67984eb-4c7b-4ed4-8267-cb5d66a1e280",
   "metadata": {},
   "outputs": [
    {
     "name": "stderr",
     "output_type": "stream",
     "text": [
      " 16%|█▌        | 3/19 [9:06:00<48:32:04, 10920.30s/it]\n"
     ]
    },
    {
     "ename": "KeyboardInterrupt",
     "evalue": "",
     "output_type": "error",
     "traceback": [
      "\u001b[0;31m---------------------------------------------------------------------------\u001b[0m",
      "\u001b[0;31mKeyboardInterrupt\u001b[0m                         Traceback (most recent call last)",
      "\u001b[0;32m<ipython-input-88-7da745c5265d>\u001b[0m in \u001b[0;36m<module>\u001b[0;34m\u001b[0m\n\u001b[1;32m      3\u001b[0m \u001b[0;34m\u001b[0m\u001b[0m\n\u001b[1;32m      4\u001b[0m \u001b[0;32mfor\u001b[0m \u001b[0mcluster_k\u001b[0m \u001b[0;32min\u001b[0m \u001b[0mtqdm\u001b[0m\u001b[0;34m(\u001b[0m\u001b[0mclusterList\u001b[0m\u001b[0;34m)\u001b[0m\u001b[0;34m:\u001b[0m\u001b[0;34m\u001b[0m\u001b[0;34m\u001b[0m\u001b[0m\n\u001b[0;32m----> 5\u001b[0;31m     \u001b[0manchors\u001b[0m\u001b[0;34m,\u001b[0m \u001b[0mdistances\u001b[0m \u001b[0;34m=\u001b[0m \u001b[0mKMeans\u001b[0m\u001b[0;34m(\u001b[0m\u001b[0mupdated_boxes\u001b[0m\u001b[0;34m,\u001b[0m \u001b[0mk\u001b[0m\u001b[0;34m=\u001b[0m\u001b[0mcluster_k\u001b[0m\u001b[0;34m)\u001b[0m\u001b[0;34m\u001b[0m\u001b[0;34m\u001b[0m\u001b[0m\n\u001b[0m\u001b[1;32m      6\u001b[0m     \u001b[0mindxs\u001b[0m \u001b[0;34m=\u001b[0m \u001b[0mtorch\u001b[0m\u001b[0;34m.\u001b[0m\u001b[0margmax\u001b[0m\u001b[0;34m(\u001b[0m\u001b[0mdistances\u001b[0m\u001b[0;34m,\u001b[0m \u001b[0mdim\u001b[0m\u001b[0;34m=\u001b[0m\u001b[0;36m1\u001b[0m\u001b[0;34m)\u001b[0m\u001b[0;34m\u001b[0m\u001b[0;34m\u001b[0m\u001b[0m\n\u001b[1;32m      7\u001b[0m     \u001b[0mfiltered_distances\u001b[0m \u001b[0;34m=\u001b[0m \u001b[0;34m[\u001b[0m\u001b[0;34m]\u001b[0m\u001b[0;34m\u001b[0m\u001b[0;34m\u001b[0m\u001b[0m\n",
      "\u001b[0;32m<ipython-input-87-0517614e433d>\u001b[0m in \u001b[0;36mKMeans\u001b[0;34m(bboxes, k, dist, stop_iter)\u001b[0m\n\u001b[1;32m     11\u001b[0m     \u001b[0;32mwhile\u001b[0m \u001b[0;32mTrue\u001b[0m\u001b[0;34m:\u001b[0m\u001b[0;34m\u001b[0m\u001b[0;34m\u001b[0m\u001b[0m\n\u001b[1;32m     12\u001b[0m         \u001b[0;31m# calculate the distances\u001b[0m\u001b[0;34m\u001b[0m\u001b[0;34m\u001b[0m\u001b[0;34m\u001b[0m\u001b[0m\n\u001b[0;32m---> 13\u001b[0;31m         \u001b[0mdistances\u001b[0m \u001b[0;34m=\u001b[0m \u001b[0mIoU\u001b[0m\u001b[0;34m(\u001b[0m\u001b[0mbboxes\u001b[0m\u001b[0;34m,\u001b[0m \u001b[0mclusters\u001b[0m\u001b[0;34m)\u001b[0m\u001b[0;34m\u001b[0m\u001b[0;34m\u001b[0m\u001b[0m\n\u001b[0m\u001b[1;32m     14\u001b[0m \u001b[0;34m\u001b[0m\u001b[0m\n\u001b[1;32m     15\u001b[0m         \u001b[0mnearest_clusters\u001b[0m \u001b[0;34m=\u001b[0m \u001b[0mtorch\u001b[0m\u001b[0;34m.\u001b[0m\u001b[0margmax\u001b[0m\u001b[0;34m(\u001b[0m\u001b[0mdistances\u001b[0m\u001b[0;34m,\u001b[0m \u001b[0mdim\u001b[0m\u001b[0;34m=\u001b[0m\u001b[0;36m1\u001b[0m\u001b[0;34m)\u001b[0m \u001b[0;31m# 0, 1, 2 ... K\u001b[0m\u001b[0;34m\u001b[0m\u001b[0;34m\u001b[0m\u001b[0m\n",
      "\u001b[0;32m<ipython-input-70-8996e0bf977c>\u001b[0m in \u001b[0;36mIoU\u001b[0;34m(clusters, bboxes)\u001b[0m\n\u001b[1;32m      1\u001b[0m \u001b[0;32mdef\u001b[0m \u001b[0mIoU\u001b[0m\u001b[0;34m(\u001b[0m\u001b[0mclusters\u001b[0m\u001b[0;34m:\u001b[0m \u001b[0mtorch\u001b[0m\u001b[0;34m.\u001b[0m\u001b[0mtensor\u001b[0m\u001b[0;34m,\u001b[0m \u001b[0mbboxes\u001b[0m\u001b[0;34m:\u001b[0m \u001b[0mtorch\u001b[0m\u001b[0;34m.\u001b[0m\u001b[0mtensor\u001b[0m\u001b[0;34m)\u001b[0m\u001b[0;34m:\u001b[0m\u001b[0;34m\u001b[0m\u001b[0;34m\u001b[0m\u001b[0m\n\u001b[0;32m----> 2\u001b[0;31m     \u001b[0miou_values\u001b[0m \u001b[0;34m=\u001b[0m \u001b[0mbox_iou\u001b[0m\u001b[0;34m(\u001b[0m\u001b[0mclusters\u001b[0m\u001b[0;34m,\u001b[0m \u001b[0mbboxes\u001b[0m\u001b[0;34m)\u001b[0m\u001b[0;34m\u001b[0m\u001b[0;34m\u001b[0m\u001b[0m\n\u001b[0m\u001b[1;32m      3\u001b[0m     \u001b[0;32mreturn\u001b[0m \u001b[0miou_values\u001b[0m\u001b[0;34m\u001b[0m\u001b[0;34m\u001b[0m\u001b[0m\n",
      "\u001b[0;32m/usr/lib/python3/dist-packages/torchvision/ops/boxes.py\u001b[0m in \u001b[0;36mbox_iou\u001b[0;34m(boxes1, boxes2)\u001b[0m\n\u001b[1;32m    269\u001b[0m     \u001b[0;32mif\u001b[0m \u001b[0;32mnot\u001b[0m \u001b[0mtorch\u001b[0m\u001b[0;34m.\u001b[0m\u001b[0mjit\u001b[0m\u001b[0;34m.\u001b[0m\u001b[0mis_scripting\u001b[0m\u001b[0;34m(\u001b[0m\u001b[0;34m)\u001b[0m \u001b[0;32mand\u001b[0m \u001b[0;32mnot\u001b[0m \u001b[0mtorch\u001b[0m\u001b[0;34m.\u001b[0m\u001b[0mjit\u001b[0m\u001b[0;34m.\u001b[0m\u001b[0mis_tracing\u001b[0m\u001b[0;34m(\u001b[0m\u001b[0;34m)\u001b[0m\u001b[0;34m:\u001b[0m\u001b[0;34m\u001b[0m\u001b[0;34m\u001b[0m\u001b[0m\n\u001b[1;32m    270\u001b[0m         \u001b[0m_log_api_usage_once\u001b[0m\u001b[0;34m(\u001b[0m\u001b[0mbox_iou\u001b[0m\u001b[0;34m)\u001b[0m\u001b[0;34m\u001b[0m\u001b[0;34m\u001b[0m\u001b[0m\n\u001b[0;32m--> 271\u001b[0;31m     \u001b[0minter\u001b[0m\u001b[0;34m,\u001b[0m \u001b[0munion\u001b[0m \u001b[0;34m=\u001b[0m \u001b[0m_box_inter_union\u001b[0m\u001b[0;34m(\u001b[0m\u001b[0mboxes1\u001b[0m\u001b[0;34m,\u001b[0m \u001b[0mboxes2\u001b[0m\u001b[0;34m)\u001b[0m\u001b[0;34m\u001b[0m\u001b[0;34m\u001b[0m\u001b[0m\n\u001b[0m\u001b[1;32m    272\u001b[0m     \u001b[0miou\u001b[0m \u001b[0;34m=\u001b[0m \u001b[0minter\u001b[0m \u001b[0;34m/\u001b[0m \u001b[0munion\u001b[0m\u001b[0;34m\u001b[0m\u001b[0;34m\u001b[0m\u001b[0m\n\u001b[1;32m    273\u001b[0m     \u001b[0;32mreturn\u001b[0m \u001b[0miou\u001b[0m\u001b[0;34m\u001b[0m\u001b[0;34m\u001b[0m\u001b[0m\n",
      "\u001b[0;32m/usr/lib/python3/dist-packages/torchvision/ops/boxes.py\u001b[0m in \u001b[0;36m_box_inter_union\u001b[0;34m(boxes1, boxes2)\u001b[0m\n\u001b[1;32m    243\u001b[0m \u001b[0;34m\u001b[0m\u001b[0m\n\u001b[1;32m    244\u001b[0m     \u001b[0mlt\u001b[0m \u001b[0;34m=\u001b[0m \u001b[0mtorch\u001b[0m\u001b[0;34m.\u001b[0m\u001b[0mmax\u001b[0m\u001b[0;34m(\u001b[0m\u001b[0mboxes1\u001b[0m\u001b[0;34m[\u001b[0m\u001b[0;34m:\u001b[0m\u001b[0;34m,\u001b[0m \u001b[0;32mNone\u001b[0m\u001b[0;34m,\u001b[0m \u001b[0;34m:\u001b[0m\u001b[0;36m2\u001b[0m\u001b[0;34m]\u001b[0m\u001b[0;34m,\u001b[0m \u001b[0mboxes2\u001b[0m\u001b[0;34m[\u001b[0m\u001b[0;34m:\u001b[0m\u001b[0;34m,\u001b[0m \u001b[0;34m:\u001b[0m\u001b[0;36m2\u001b[0m\u001b[0;34m]\u001b[0m\u001b[0;34m)\u001b[0m  \u001b[0;31m# [N,M,2]\u001b[0m\u001b[0;34m\u001b[0m\u001b[0;34m\u001b[0m\u001b[0m\n\u001b[0;32m--> 245\u001b[0;31m     \u001b[0mrb\u001b[0m \u001b[0;34m=\u001b[0m \u001b[0mtorch\u001b[0m\u001b[0;34m.\u001b[0m\u001b[0mmin\u001b[0m\u001b[0;34m(\u001b[0m\u001b[0mboxes1\u001b[0m\u001b[0;34m[\u001b[0m\u001b[0;34m:\u001b[0m\u001b[0;34m,\u001b[0m \u001b[0;32mNone\u001b[0m\u001b[0;34m,\u001b[0m \u001b[0;36m2\u001b[0m\u001b[0;34m:\u001b[0m\u001b[0;34m]\u001b[0m\u001b[0;34m,\u001b[0m \u001b[0mboxes2\u001b[0m\u001b[0;34m[\u001b[0m\u001b[0;34m:\u001b[0m\u001b[0;34m,\u001b[0m \u001b[0;36m2\u001b[0m\u001b[0;34m:\u001b[0m\u001b[0;34m]\u001b[0m\u001b[0;34m)\u001b[0m  \u001b[0;31m# [N,M,2]\u001b[0m\u001b[0;34m\u001b[0m\u001b[0;34m\u001b[0m\u001b[0m\n\u001b[0m\u001b[1;32m    246\u001b[0m \u001b[0;34m\u001b[0m\u001b[0m\n\u001b[1;32m    247\u001b[0m     \u001b[0mwh\u001b[0m \u001b[0;34m=\u001b[0m \u001b[0m_upcast\u001b[0m\u001b[0;34m(\u001b[0m\u001b[0mrb\u001b[0m \u001b[0;34m-\u001b[0m \u001b[0mlt\u001b[0m\u001b[0;34m)\u001b[0m\u001b[0;34m.\u001b[0m\u001b[0mclamp\u001b[0m\u001b[0;34m(\u001b[0m\u001b[0mmin\u001b[0m\u001b[0;34m=\u001b[0m\u001b[0;36m0\u001b[0m\u001b[0;34m)\u001b[0m  \u001b[0;31m# [N,M,2]\u001b[0m\u001b[0;34m\u001b[0m\u001b[0;34m\u001b[0m\u001b[0m\n",
      "\u001b[0;31mKeyboardInterrupt\u001b[0m: "
     ]
    }
   ],
   "source": [
    "clusterList = [1, 2, 3, 4, 5, 6, 7, 8, 9, 10, 11, 12, 13, 14, 15, 16, 17, 18, 19]\n",
    "mean_distances, anchorBoxes = [], []\n",
    "\n",
    "for cluster_k in tqdm(clusterList):\n",
    "    anchors, distances = KMeans(updated_boxes, k=cluster_k)\n",
    "    indxs = torch.argmax(distances, dim=1)\n",
    "    filtered_distances = []\n",
    "    for i, distance in enumerate(distances):\n",
    "        filtered_distances.append(distance[indxs[i]].item())\n",
    "    mean_distances.append(np.mean(filtered_distances))\n",
    "    anchorBoxes.append(anchors)"
   ]
  },
  {
   "cell_type": "code",
   "execution_count": null,
   "id": "4d3dcf26-92fb-4203-8376-dda1f9e004bd",
   "metadata": {},
   "outputs": [],
   "source": [
    "plt.plot(clusterList, mean_distances)\n",
    "plt.scatter(clusterList, mean_distances)\n",
    "plt.title(\"Mean IoU Score\")\n",
    "plt.xlabel(\"Number of clusters\")\n",
    "plt.ylabel(\"IoU score\")"
   ]
  },
  {
   "cell_type": "code",
   "execution_count": null,
   "id": "f8b9b376-cb9f-4df6-8017-f5e405dfb413",
   "metadata": {},
   "outputs": [],
   "source": [
    "with open('./mean_dist.pkl', 'wb') as handle:\n",
    "    pickle.dump(mean_distances, handle)\n",
    "with open('./anchor_boxes.pkl', 'wb') as handle:\n",
    "    pickle.dump(anchorBoxes, handle)"
   ]
  },
  {
   "cell_type": "code",
   "execution_count": null,
   "id": "ea15ac45-2cbc-4f53-ab33-52900a38c1b3",
   "metadata": {},
   "outputs": [],
   "source": []
  },
  {
   "cell_type": "code",
   "execution_count": null,
   "id": "19fde223-fda4-4f09-a890-7e0216194753",
   "metadata": {},
   "outputs": [],
   "source": []
  }
 ],
 "metadata": {
  "kernelspec": {
   "display_name": "Python 3",
   "language": "python",
   "name": "python3"
  },
  "language_info": {
   "codemirror_mode": {
    "name": "ipython",
    "version": 3
   },
   "file_extension": ".py",
   "mimetype": "text/x-python",
   "name": "python",
   "nbconvert_exporter": "python",
   "pygments_lexer": "ipython3",
   "version": "3.8.10"
  }
 },
 "nbformat": 4,
 "nbformat_minor": 5
}
