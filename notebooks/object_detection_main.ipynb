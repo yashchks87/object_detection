{
 "cells": [
  {
   "cell_type": "code",
   "execution_count": 1,
   "metadata": {},
   "outputs": [],
   "source": [
    "import pandas as pd\n",
    "import numpy as np\n",
    "import torch, torchvision\n",
    "import cv2, PIL\n",
    "from torch import nn\n",
    "import matplotlib.pyplot as plt\n",
    "import albumentations\n",
    "from torch.utils.data import Dataset, DataLoader\n",
    "from sklearn.model_selection import train_test_split\n",
    "import torch.optim as optim\n",
    "from tqdm import tqdm"
   ]
  },
  {
   "cell_type": "code",
   "execution_count": 2,
   "metadata": {},
   "outputs": [],
   "source": [
    "multiple_gpus = False\n",
    "if torch.cuda.is_available():\n",
    "    if torch.cuda.device_count() > 1:\n",
    "        multiple_gpus = True\n",
    "    device = torch.device(\"cuda:0\" if torch.cuda.is_available() else \"cpu\")"
   ]
  },
  {
   "cell_type": "code",
   "execution_count": 3,
   "metadata": {},
   "outputs": [],
   "source": [
    "csv_file = pd.read_csv('./wiki.csv')\n",
    "csv_file = csv_file[csv_file['valid_images'] != 0.0]\n",
    "csv_file = csv_file[csv_file['face_score'] != float('-inf')]"
   ]
  },
  {
   "cell_type": "code",
   "execution_count": 4,
   "metadata": {},
   "outputs": [
    {
     "data": {
      "text/html": [
       "<div>\n",
       "<style scoped>\n",
       "    .dataframe tbody tr th:only-of-type {\n",
       "        vertical-align: middle;\n",
       "    }\n",
       "\n",
       "    .dataframe tbody tr th {\n",
       "        vertical-align: top;\n",
       "    }\n",
       "\n",
       "    .dataframe thead th {\n",
       "        text-align: right;\n",
       "    }\n",
       "</style>\n",
       "<table border=\"1\" class=\"dataframe\">\n",
       "  <thead>\n",
       "    <tr style=\"text-align: right;\">\n",
       "      <th></th>\n",
       "      <th>Unnamed: 0</th>\n",
       "      <th>img_path</th>\n",
       "      <th>dob</th>\n",
       "      <th>photo_taken_year</th>\n",
       "      <th>gender</th>\n",
       "      <th>name</th>\n",
       "      <th>face_location</th>\n",
       "      <th>face_score</th>\n",
       "      <th>updated_paths</th>\n",
       "      <th>valid_images</th>\n",
       "    </tr>\n",
       "  </thead>\n",
       "  <tbody>\n",
       "    <tr>\n",
       "      <th>0</th>\n",
       "      <td>0</td>\n",
       "      <td>17/10000217_1981-05-05_2009.jpg</td>\n",
       "      <td>1981-05-05</td>\n",
       "      <td>2009</td>\n",
       "      <td>M</td>\n",
       "      <td>Sami Jauhojärvi</td>\n",
       "      <td>111.29109473290997, 111.29109473290997, 252.66...</td>\n",
       "      <td>4.300962</td>\n",
       "      <td>../../IMDB_WIKI/wiki/17/10000217_1981-05-05_20...</td>\n",
       "      <td>1.0</td>\n",
       "    </tr>\n",
       "    <tr>\n",
       "      <th>1</th>\n",
       "      <td>1</td>\n",
       "      <td>48/10000548_1925-04-04_1964.jpg</td>\n",
       "      <td>1925-04-04</td>\n",
       "      <td>1964</td>\n",
       "      <td>M</td>\n",
       "      <td>Dettmar Cramer</td>\n",
       "      <td>252.48330229530742, 126.68165114765371, 354.53...</td>\n",
       "      <td>2.645639</td>\n",
       "      <td>../../IMDB_WIKI/wiki/48/10000548_1925-04-04_19...</td>\n",
       "      <td>1.0</td>\n",
       "    </tr>\n",
       "    <tr>\n",
       "      <th>2</th>\n",
       "      <td>2</td>\n",
       "      <td>12/100012_1948-07-03_2008.jpg</td>\n",
       "      <td>1948-07-03</td>\n",
       "      <td>2008</td>\n",
       "      <td>M</td>\n",
       "      <td>Marc Okrand</td>\n",
       "      <td>113.52, 169.83999999999997, 366.08, 422.4</td>\n",
       "      <td>4.329329</td>\n",
       "      <td>../../IMDB_WIKI/wiki/12/100012_1948-07-03_2008...</td>\n",
       "      <td>1.0</td>\n",
       "    </tr>\n",
       "    <tr>\n",
       "      <th>4</th>\n",
       "      <td>4</td>\n",
       "      <td>16/10002116_1971-05-31_2012.jpg</td>\n",
       "      <td>1971-05-31</td>\n",
       "      <td>2012</td>\n",
       "      <td>F</td>\n",
       "      <td>Diana Damrau</td>\n",
       "      <td>171.61031405173117, 75.57451239763239, 266.766...</td>\n",
       "      <td>3.408442</td>\n",
       "      <td>../../IMDB_WIKI/wiki/16/10002116_1971-05-31_20...</td>\n",
       "      <td>1.0</td>\n",
       "    </tr>\n",
       "    <tr>\n",
       "      <th>5</th>\n",
       "      <td>5</td>\n",
       "      <td>02/10002702_1960-11-09_2012.jpg</td>\n",
       "      <td>1960-11-09</td>\n",
       "      <td>2012</td>\n",
       "      <td>F</td>\n",
       "      <td>Krista Tippett</td>\n",
       "      <td>274.76563240288175, 57.7700900839337, 376.8869...</td>\n",
       "      <td>4.748056</td>\n",
       "      <td>../../IMDB_WIKI/wiki/02/10002702_1960-11-09_20...</td>\n",
       "      <td>1.0</td>\n",
       "    </tr>\n",
       "  </tbody>\n",
       "</table>\n",
       "</div>"
      ],
      "text/plain": [
       "   Unnamed: 0                         img_path         dob  photo_taken_year  \\\n",
       "0           0  17/10000217_1981-05-05_2009.jpg  1981-05-05              2009   \n",
       "1           1  48/10000548_1925-04-04_1964.jpg  1925-04-04              1964   \n",
       "2           2    12/100012_1948-07-03_2008.jpg  1948-07-03              2008   \n",
       "4           4  16/10002116_1971-05-31_2012.jpg  1971-05-31              2012   \n",
       "5           5  02/10002702_1960-11-09_2012.jpg  1960-11-09              2012   \n",
       "\n",
       "  gender             name                                      face_location  \\\n",
       "0      M  Sami Jauhojärvi  111.29109473290997, 111.29109473290997, 252.66...   \n",
       "1      M   Dettmar Cramer  252.48330229530742, 126.68165114765371, 354.53...   \n",
       "2      M      Marc Okrand          113.52, 169.83999999999997, 366.08, 422.4   \n",
       "4      F     Diana Damrau  171.61031405173117, 75.57451239763239, 266.766...   \n",
       "5      F   Krista Tippett  274.76563240288175, 57.7700900839337, 376.8869...   \n",
       "\n",
       "   face_score                                      updated_paths  valid_images  \n",
       "0    4.300962  ../../IMDB_WIKI/wiki/17/10000217_1981-05-05_20...           1.0  \n",
       "1    2.645639  ../../IMDB_WIKI/wiki/48/10000548_1925-04-04_19...           1.0  \n",
       "2    4.329329  ../../IMDB_WIKI/wiki/12/100012_1948-07-03_2008...           1.0  \n",
       "4    3.408442  ../../IMDB_WIKI/wiki/16/10002116_1971-05-31_20...           1.0  \n",
       "5    4.748056  ../../IMDB_WIKI/wiki/02/10002702_1960-11-09_20...           1.0  "
      ]
     },
     "execution_count": 4,
     "metadata": {},
     "output_type": "execute_result"
    }
   ],
   "source": [
    "csv_file.head()"
   ]
  },
  {
   "cell_type": "code",
   "execution_count": 5,
   "metadata": {},
   "outputs": [],
   "source": [
    "img_paths = csv_file['updated_paths'].values.tolist()\n",
    "face_score = csv_file['face_location'].values.tolist()"
   ]
  },
  {
   "cell_type": "code",
   "execution_count": 6,
   "metadata": {},
   "outputs": [],
   "source": [
    "def get_model():\n",
    "    res50 = torchvision.models.resnet50()\n",
    "    res50.fc = nn.Linear(2048, 4)\n",
    "    return res50"
   ]
  },
  {
   "cell_type": "code",
   "execution_count": 7,
   "metadata": {},
   "outputs": [],
   "source": [
    "model = get_model()"
   ]
  },
  {
   "cell_type": "code",
   "execution_count": 8,
   "metadata": {},
   "outputs": [],
   "source": [
    "def split_datasets(csv_file, test_size):\n",
    "    train, test = train_test_split(csv_file, test_size = test_size)\n",
    "    train, val = train_test_split(train, test_size = test_size)\n",
    "    return train, val, test"
   ]
  },
  {
   "cell_type": "code",
   "execution_count": 9,
   "metadata": {},
   "outputs": [],
   "source": [
    "train, val, test = split_datasets(csv_file, 0.01)"
   ]
  },
  {
   "cell_type": "code",
   "execution_count": 10,
   "metadata": {},
   "outputs": [
    {
     "name": "stdout",
     "output_type": "stream",
     "text": [
      "Train dataset size: 43429\n",
      "Val dataset size: 439\n",
      "Test dataset size: 444\n"
     ]
    }
   ],
   "source": [
    "print(f'Train dataset size: {len(train)}')\n",
    "print(f'Val dataset size: {len(val)}')\n",
    "print(f'Test dataset size: {len(test)}')"
   ]
  },
  {
   "cell_type": "code",
   "execution_count": 11,
   "metadata": {},
   "outputs": [
    {
     "data": {
      "text/html": [
       "<div>\n",
       "<style scoped>\n",
       "    .dataframe tbody tr th:only-of-type {\n",
       "        vertical-align: middle;\n",
       "    }\n",
       "\n",
       "    .dataframe tbody tr th {\n",
       "        vertical-align: top;\n",
       "    }\n",
       "\n",
       "    .dataframe thead th {\n",
       "        text-align: right;\n",
       "    }\n",
       "</style>\n",
       "<table border=\"1\" class=\"dataframe\">\n",
       "  <thead>\n",
       "    <tr style=\"text-align: right;\">\n",
       "      <th></th>\n",
       "      <th>Unnamed: 0</th>\n",
       "      <th>img_path</th>\n",
       "      <th>dob</th>\n",
       "      <th>photo_taken_year</th>\n",
       "      <th>gender</th>\n",
       "      <th>name</th>\n",
       "      <th>face_location</th>\n",
       "      <th>face_score</th>\n",
       "      <th>updated_paths</th>\n",
       "      <th>valid_images</th>\n",
       "    </tr>\n",
       "  </thead>\n",
       "  <tbody>\n",
       "    <tr>\n",
       "      <th>34151</th>\n",
       "      <td>34151</td>\n",
       "      <td>21/14575821_1949-08-04_2014.jpg</td>\n",
       "      <td>1949-08-04</td>\n",
       "      <td>2014</td>\n",
       "      <td>M</td>\n",
       "      <td>Rich Stubler</td>\n",
       "      <td>231.2, 64.8, 345.6, 179.2</td>\n",
       "      <td>1.387475</td>\n",
       "      <td>../../IMDB_WIKI/wiki/21/14575821_1949-08-04_20...</td>\n",
       "      <td>1.0</td>\n",
       "    </tr>\n",
       "    <tr>\n",
       "      <th>6657</th>\n",
       "      <td>6657</td>\n",
       "      <td>88/40102988_1988-09-25_2014.jpg</td>\n",
       "      <td>1988-09-25</td>\n",
       "      <td>2014</td>\n",
       "      <td>F</td>\n",
       "      <td>Ekaterina Koneva</td>\n",
       "      <td>206.244, 59.364000000000004, 293.76, 146.88</td>\n",
       "      <td>1.237428</td>\n",
       "      <td>../../IMDB_WIKI/wiki/88/40102988_1988-09-25_20...</td>\n",
       "      <td>1.0</td>\n",
       "    </tr>\n",
       "    <tr>\n",
       "      <th>46549</th>\n",
       "      <td>46549</td>\n",
       "      <td>20/537020_1958-11-19_2008.jpg</td>\n",
       "      <td>1958-11-19</td>\n",
       "      <td>2008</td>\n",
       "      <td>M</td>\n",
       "      <td>Charlie Kaufman</td>\n",
       "      <td>174.73856254440588, 163.87740238538052, 271.52...</td>\n",
       "      <td>4.012372</td>\n",
       "      <td>../../IMDB_WIKI/wiki/20/537020_1958-11-19_2008...</td>\n",
       "      <td>1.0</td>\n",
       "    </tr>\n",
       "    <tr>\n",
       "      <th>41166</th>\n",
       "      <td>41166</td>\n",
       "      <td>29/35613229_1965-11-01_2012.jpg</td>\n",
       "      <td>1965-11-01</td>\n",
       "      <td>2012</td>\n",
       "      <td>M</td>\n",
       "      <td>Marko Kraljević</td>\n",
       "      <td>165.58440384557463, 66.80976153822985, 312.786...</td>\n",
       "      <td>3.622035</td>\n",
       "      <td>../../IMDB_WIKI/wiki/29/35613229_1965-11-01_20...</td>\n",
       "      <td>1.0</td>\n",
       "    </tr>\n",
       "    <tr>\n",
       "      <th>35550</th>\n",
       "      <td>35550</td>\n",
       "      <td>75/26576875_1945-08-12_2009.jpg</td>\n",
       "      <td>1945-08-12</td>\n",
       "      <td>2009</td>\n",
       "      <td>M</td>\n",
       "      <td>Jean Nouvel</td>\n",
       "      <td>158.09489842324112, 79.38044921162056, 275.500...</td>\n",
       "      <td>2.383003</td>\n",
       "      <td>../../IMDB_WIKI/wiki/75/26576875_1945-08-12_20...</td>\n",
       "      <td>1.0</td>\n",
       "    </tr>\n",
       "  </tbody>\n",
       "</table>\n",
       "</div>"
      ],
      "text/plain": [
       "       Unnamed: 0                         img_path         dob  \\\n",
       "34151       34151  21/14575821_1949-08-04_2014.jpg  1949-08-04   \n",
       "6657         6657  88/40102988_1988-09-25_2014.jpg  1988-09-25   \n",
       "46549       46549    20/537020_1958-11-19_2008.jpg  1958-11-19   \n",
       "41166       41166  29/35613229_1965-11-01_2012.jpg  1965-11-01   \n",
       "35550       35550  75/26576875_1945-08-12_2009.jpg  1945-08-12   \n",
       "\n",
       "       photo_taken_year gender              name  \\\n",
       "34151              2014      M      Rich Stubler   \n",
       "6657               2014      F  Ekaterina Koneva   \n",
       "46549              2008      M   Charlie Kaufman   \n",
       "41166              2012      M   Marko Kraljević   \n",
       "35550              2009      M       Jean Nouvel   \n",
       "\n",
       "                                           face_location  face_score  \\\n",
       "34151                          231.2, 64.8, 345.6, 179.2    1.387475   \n",
       "6657         206.244, 59.364000000000004, 293.76, 146.88    1.237428   \n",
       "46549  174.73856254440588, 163.87740238538052, 271.52...    4.012372   \n",
       "41166  165.58440384557463, 66.80976153822985, 312.786...    3.622035   \n",
       "35550  158.09489842324112, 79.38044921162056, 275.500...    2.383003   \n",
       "\n",
       "                                           updated_paths  valid_images  \n",
       "34151  ../../IMDB_WIKI/wiki/21/14575821_1949-08-04_20...           1.0  \n",
       "6657   ../../IMDB_WIKI/wiki/88/40102988_1988-09-25_20...           1.0  \n",
       "46549  ../../IMDB_WIKI/wiki/20/537020_1958-11-19_2008...           1.0  \n",
       "41166  ../../IMDB_WIKI/wiki/29/35613229_1965-11-01_20...           1.0  \n",
       "35550  ../../IMDB_WIKI/wiki/75/26576875_1945-08-12_20...           1.0  "
      ]
     },
     "execution_count": 11,
     "metadata": {},
     "output_type": "execute_result"
    }
   ],
   "source": [
    "train.head()"
   ]
  },
  {
   "cell_type": "code",
   "execution_count": 12,
   "metadata": {},
   "outputs": [],
   "source": [
    "class GetDataset(Dataset):\n",
    "    def __init__(self, csv_file, target_image_size):\n",
    "        self.csv_file = csv_file\n",
    "        self.target_image_size = target_image_size\n",
    "        self.img_paths = self.csv_file['updated_paths'].values.tolist()\n",
    "        self.boxes = self.csv_file['face_location'].values.tolist()\n",
    "\n",
    "    def resize_box(self, old_image_size, new_image_size, old_box_values):\n",
    "        if len(old_image_size) == 3:\n",
    "            width, height = old_image_size[2], old_image_size[1]\n",
    "        else:\n",
    "            width, height = old_image_size[1], old_image_size[0]\n",
    "        x1, x2, y1, y2 = old_box_values[0], old_box_values[2], old_box_values[1], old_box_values[3]\n",
    "        x1_o = x1 / width\n",
    "        x2_o = x2 / width\n",
    "        y1_o = y1 / height\n",
    "        y2_o = y2 / height\n",
    "\n",
    "        x1_n = new_image_size[0] * x1_o\n",
    "        x2_n = new_image_size[0] * x2_o\n",
    "        y1_n = new_image_size[1] * y1_o\n",
    "        y2_n = new_image_size[1] * y2_o\n",
    "        return [x1_n, y1_n, x2_n, y2_n]\n",
    "\n",
    "    def __getitem__(self, index):\n",
    "        img = torchvision.io.read_image(self.img_paths[index], mode=torchvision.io.ImageReadMode.RGB)\n",
    "        box = [int(float(x)) for x in self.boxes[index].split(',')]\n",
    "        updated_box = self.resize_box(img.shape, self.target_image_size, box)\n",
    "        img = torchvision.transforms.functional.resize(img, (self.target_image_size[0], self.target_image_size[1]))\n",
    "        updated_box = torch.Tensor(updated_box)\n",
    "        return img.float(), updated_box\n",
    "\n",
    "    def __len__(self):\n",
    "        return len(self.csv_file)"
   ]
  },
  {
   "cell_type": "code",
   "execution_count": 13,
   "metadata": {},
   "outputs": [],
   "source": [
    "def box_loss(inputs, targets):\n",
    "    abs_diffs = torch.abs(inputs - targets)\n",
    "    x1 = torch.sum(abs_diffs[:, 0]) / inputs.shape[0]\n",
    "    y1 = torch.sum(abs_diffs[:, 1]) / inputs.shape[0]\n",
    "    x2 = torch.sum(abs_diffs[:, 2]) / inputs.shape[0]\n",
    "    y2 = torch.sum(abs_diffs[:, 3]) / inputs.shape[0]\n",
    "    temp = x1 + x2 + y1 + y2\n",
    "    return temp\n",
    "    # print(temp)\n",
    "    # return x1 + y1 + x2 + y2\n",
    "    # return 0.0"
   ]
  },
  {
   "cell_type": "code",
   "execution_count": 14,
   "metadata": {},
   "outputs": [],
   "source": [
    "train_dataset = GetDataset(train, (512, 512))\n",
    "train_loader = DataLoader(train_dataset, batch_size=2, shuffle=True, num_workers=1)\n",
    "val_dataset = GetDataset(val, (512, 512))\n",
    "val_loader = DataLoader(val_dataset, batch_size=2, shuffle=True, num_workers=1)"
   ]
  },
  {
   "cell_type": "code",
   "execution_count": 17,
   "metadata": {},
   "outputs": [],
   "source": [
    "def train_model(model, train_set, val_set, load_weights, epochs):\n",
    "    data_pointers = {\n",
    "        'train' : train_set,\n",
    "        'val' : val_set\n",
    "    }\n",
    "    if load_weights != None:\n",
    "        model.load_state_dict(torch.load(load_weights)['model_state_dict'])\n",
    "    optimizer = optim.SGD(model.parameters(), lr=0.001)\n",
    "    if next(model.parameters()).is_cuda == False:\n",
    "        if multiple_gpus == True:\n",
    "            model = nn.DataParallel(model)\n",
    "        model = model.to(device)\n",
    "    for epoch in range(epochs):\n",
    "        train_loss, val_loss = 0.0, 0.0\n",
    "        for phase in ['train', 'val']:\n",
    "            if phase == 'train':\n",
    "                model.train()\n",
    "            else:\n",
    "                model.eval()\n",
    "            running_loss = 0.0\n",
    "            with tqdm(data_pointers[phase], unit='batch') as tepoch:\n",
    "                for imgs, labels in tepoch:\n",
    "                    tepoch.set_description(f'Epoch: {epoch}')\n",
    "                    imgs = imgs.to(device)\n",
    "                    labels = labels.to(device)\n",
    "                    optimizer.zero_grad()\n",
    "                    with torch.set_grad_enabled(phase == 'train'):\n",
    "                        outputs = model(imgs)\n",
    "                        loss = box_loss(outputs, labels)\n",
    "                        if phase == 'train':\n",
    "                            loss.backward()\n",
    "                            optimizer.step()\n",
    "                    running_loss += loss.item()\n",
    "                    tepoch.set_postfix(loss = loss.item())\n",
    "            if phase == 'train':\n",
    "                train_loss = running_loss / len(train_set)\n",
    "                print(f'{phase} Loss: {float(train_loss)}')\n",
    "            else:\n",
    "                train_loss = running_loss / len(val_set)\n",
    "                print(f'{phase} Loss: {float(val_loss)}')"
   ]
  },
  {
   "cell_type": "code",
   "execution_count": 18,
   "metadata": {},
   "outputs": [
    {
     "name": "stderr",
     "output_type": "stream",
     "text": [
      "Epoch: 0:   0%|          | 45/21715 [00:05<43:54,  8.23batch/s, loss=533] libpng warning: iCCP: profile 'icc': 'RGB ': RGB color space not permitted on grayscale PNG\n",
      "Epoch: 0:   0%|          | 67/21715 [00:08<43:59,  8.20batch/s, loss=305]libpng warning: iCCP: known incorrect sRGB profile\n",
      "Epoch: 0:   1%|          | 126/21715 [00:15<43:58,  8.18batch/s, loss=300]libpng warning: iCCP: profile 'icc': 'RGB ': RGB color space not permitted on grayscale PNG\n",
      "Epoch: 0:   2%|▏         | 367/21715 [00:45<43:35,  8.16batch/s, loss=332] libpng warning: iCCP: known incorrect sRGB profile\n",
      "Epoch: 0:   2%|▏         | 427/21715 [00:52<43:43,  8.12batch/s, loss=262] \n"
     ]
    },
    {
     "ename": "KeyboardInterrupt",
     "evalue": "",
     "output_type": "error",
     "traceback": [
      "\u001b[0;31m---------------------------------------------------------------------------\u001b[0m",
      "\u001b[0;31mKeyboardInterrupt\u001b[0m                         Traceback (most recent call last)",
      "\u001b[1;32m/home/paperspace/Documents/object_detection/notebooks/object_detection_main.ipynb Cell 16\u001b[0m line \u001b[0;36m1\n\u001b[0;32m----> <a href='vscode-notebook-cell://ssh-remote%2B65.19.132.62/home/paperspace/Documents/object_detection/notebooks/object_detection_main.ipynb#Y132sdnNjb2RlLXJlbW90ZQ%3D%3D?line=0'>1</a>\u001b[0m train_model(get_model(), train_loader, val_loader, \u001b[39mNone\u001b[39;49;00m, \u001b[39m2\u001b[39;49m)\n",
      "\u001b[1;32m/home/paperspace/Documents/object_detection/notebooks/object_detection_main.ipynb Cell 16\u001b[0m line \u001b[0;36m3\n\u001b[1;32m     <a href='vscode-notebook-cell://ssh-remote%2B65.19.132.62/home/paperspace/Documents/object_detection/notebooks/object_detection_main.ipynb#Y132sdnNjb2RlLXJlbW90ZQ%3D%3D?line=30'>31</a>\u001b[0m                 loss\u001b[39m.\u001b[39mbackward()\n\u001b[1;32m     <a href='vscode-notebook-cell://ssh-remote%2B65.19.132.62/home/paperspace/Documents/object_detection/notebooks/object_detection_main.ipynb#Y132sdnNjb2RlLXJlbW90ZQ%3D%3D?line=31'>32</a>\u001b[0m                 optimizer\u001b[39m.\u001b[39mstep()\n\u001b[0;32m---> <a href='vscode-notebook-cell://ssh-remote%2B65.19.132.62/home/paperspace/Documents/object_detection/notebooks/object_detection_main.ipynb#Y132sdnNjb2RlLXJlbW90ZQ%3D%3D?line=32'>33</a>\u001b[0m         running_loss \u001b[39m+\u001b[39m\u001b[39m=\u001b[39m loss\u001b[39m.\u001b[39;49mitem()\n\u001b[1;32m     <a href='vscode-notebook-cell://ssh-remote%2B65.19.132.62/home/paperspace/Documents/object_detection/notebooks/object_detection_main.ipynb#Y132sdnNjb2RlLXJlbW90ZQ%3D%3D?line=33'>34</a>\u001b[0m         tepoch\u001b[39m.\u001b[39mset_postfix(loss \u001b[39m=\u001b[39m loss\u001b[39m.\u001b[39mitem())\n\u001b[1;32m     <a href='vscode-notebook-cell://ssh-remote%2B65.19.132.62/home/paperspace/Documents/object_detection/notebooks/object_detection_main.ipynb#Y132sdnNjb2RlLXJlbW90ZQ%3D%3D?line=34'>35</a>\u001b[0m \u001b[39mif\u001b[39;00m phase \u001b[39m==\u001b[39m \u001b[39m'\u001b[39m\u001b[39mtrain\u001b[39m\u001b[39m'\u001b[39m:\n",
      "\u001b[0;31mKeyboardInterrupt\u001b[0m: "
     ]
    }
   ],
   "source": [
    "train_model(get_model(), train_loader, val_loader, None, 2)"
   ]
  },
  {
   "cell_type": "code",
   "execution_count": null,
   "metadata": {},
   "outputs": [],
   "source": []
  },
  {
   "cell_type": "code",
   "execution_count": null,
   "metadata": {},
   "outputs": [],
   "source": []
  },
  {
   "cell_type": "code",
   "execution_count": null,
   "metadata": {},
   "outputs": [],
   "source": []
  },
  {
   "cell_type": "code",
   "execution_count": null,
   "metadata": {},
   "outputs": [],
   "source": []
  },
  {
   "cell_type": "code",
   "execution_count": null,
   "metadata": {},
   "outputs": [],
   "source": []
  }
 ],
 "metadata": {
  "kernelspec": {
   "display_name": "base_env",
   "language": "python",
   "name": "base_env"
  },
  "language_info": {
   "codemirror_mode": {
    "name": "ipython",
    "version": 3
   },
   "file_extension": ".py",
   "mimetype": "text/x-python",
   "name": "python",
   "nbconvert_exporter": "python",
   "pygments_lexer": "ipython3",
   "version": "3.9.16"
  },
  "orig_nbformat": 4
 },
 "nbformat": 4,
 "nbformat_minor": 2
}
