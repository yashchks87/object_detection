{
 "cells": [
  {
   "cell_type": "code",
   "execution_count": 18,
   "metadata": {},
   "outputs": [
    {
     "name": "stdout",
     "output_type": "stream",
     "text": [
      "The autoreload extension is already loaded. To reload it, use:\n",
      "  %reload_ext autoreload\n"
     ]
    }
   ],
   "source": [
    "import tqdm\n",
    "import torch, cv2\n",
    "import numpy as np\n",
    "import matplotlib.pyplot as plt\n",
    "\n",
    "from PIL import Image\n",
    "from torchvision.ops import box_iou\n",
    "import PIL, cv2\n",
    "import sys\n",
    "sys.path.append('../scripts/')\n",
    "from resize_boxes import resize_values\n",
    "%load_ext autoreload\n",
    "%autoreload 2\n",
    "from tqdm import tqdm\n",
    "from sklearn.cluster import KMeans"
   ]
  },
  {
   "cell_type": "code",
   "execution_count": 9,
   "metadata": {},
   "outputs": [
    {
     "name": "stderr",
     "output_type": "stream",
     "text": [
      "/tmp/ipykernel_16388/979166117.py:3: DeprecationWarning: loadtxt(): Parsing an integer via a float is deprecated.  To avoid this warning, you can:\n",
      "    * make sure the original data is stored as integers.\n",
      "    * use the `converters=` keyword argument.  If you only use\n",
      "      NumPy 1.23 or later, `converters=float` will normally work.\n",
      "    * Use `np.loadtxt(...).astype(np.int64)` parsing the file as\n",
      "      floating point and then convert it.  (On all NumPy versions.)\n",
      "  (Deprecated NumPy 1.23)\n",
      "  bboxes = (np.loadtxt(bboxes_file_path, dtype=int, delimiter=\" \", ndmin=2)[:, 1:]) # Take only x, y, w, h\n"
     ]
    }
   ],
   "source": [
    "image_paths = np.loadtxt('../../bird_dataset/CUB_200_2011/images.txt', dtype=str) # all image paths\n",
    "bboxes_file_path = \"../../bird_dataset/CUB_200_2011/bounding_boxes.txt\"\n",
    "bboxes = (np.loadtxt(bboxes_file_path, dtype=int, delimiter=\" \", ndmin=2)[:, 1:]) # Take only x, y, w, h \n",
    "# bboxes[:, 2] = bboxes[:, 2] + bboxes[:, 0] # get corner point\n",
    "# bboxes[:, 3] = bboxes[:, 3] + bboxes[:, 1] # get corner point"
   ]
  },
  {
   "cell_type": "code",
   "execution_count": 10,
   "metadata": {},
   "outputs": [
    {
     "name": "stderr",
     "output_type": "stream",
     "text": [
      "  0%|          | 0/11788 [00:00<?, ?it/s]"
     ]
    },
    {
     "name": "stderr",
     "output_type": "stream",
     "text": [
      "100%|██████████| 11788/11788 [00:28<00:00, 416.80it/s]\n"
     ]
    }
   ],
   "source": [
    "updated_boxes = []\n",
    "for x in tqdm(range(len(image_paths))):\n",
    "    img = np.array(PIL.Image.open('../../bird_dataset/CUB_200_2011/images/' + image_paths[x][1]))\n",
    "    updated_boxes.append(resize_values(bboxes[x], img.shape, (512, 512), return_old_box=False, is_torch=False))"
   ]
  },
  {
   "cell_type": "code",
   "execution_count": 11,
   "metadata": {},
   "outputs": [],
   "source": [
    "updated_boxes = torch.Tensor(updated_boxes).float()"
   ]
  },
  {
   "cell_type": "code",
   "execution_count": 13,
   "metadata": {},
   "outputs": [],
   "source": [
    "def IoU(clusters: torch.tensor, bboxes: torch.tensor):\n",
    "    iou_values = box_iou(clusters, bboxes)\n",
    "    return iou_values"
   ]
  },
  {
   "cell_type": "code",
   "execution_count": 26,
   "metadata": {},
   "outputs": [],
   "source": [
    "def KMeans(bboxes:torch.tensor, k:int, dist=torch.mean, stop_iter=5):\n",
    "    rows = bboxes.shape[0]\n",
    "    distances = torch.empty((rows, k))\n",
    "    last_clusters = torch.zeros((rows, ))\n",
    "\n",
    "    cluster_indxs = np.random.choice(rows, k, replace=False) # choose unique indexs in rows\n",
    "    clusters = bboxes[cluster_indxs].clone()\n",
    "\n",
    "    iteration = 0\n",
    "    while True:\n",
    "        # calculate the distances \n",
    "        distances = IoU(bboxes, clusters)\n",
    "\n",
    "        nearest_clusters = torch.argmax(distances, dim=1) # 0, 1, 2 ... K   \n",
    "\n",
    "        if (last_clusters == nearest_clusters).all(): # break if nothing changes\n",
    "            iteration += 1\n",
    "            if iteration == stop_iter:\n",
    "                break\n",
    "        else:\n",
    "            iteration = 0\n",
    "        # Take the mean and step for cluster coordiantes \n",
    "        for cluster in range(k):\n",
    "            clusters[cluster] = torch.mean(bboxes[nearest_clusters == cluster], axis=0)\n",
    "\n",
    "        last_clusters = nearest_clusters.clone()\n",
    "    return clusters, distances"
   ]
  },
  {
   "cell_type": "code",
   "execution_count": 186,
   "metadata": {},
   "outputs": [
    {
     "ename": "KeyboardInterrupt",
     "evalue": "",
     "output_type": "error",
     "traceback": [
      "\u001b[0;31m---------------------------------------------------------------------------\u001b[0m",
      "\u001b[0;31mKeyboardInterrupt\u001b[0m                         Traceback (most recent call last)",
      "\u001b[1;32m/home/paperspace/Documents/object_detection/notebooks/yolov3_anchor_box_generation.ipynb Cell 15\u001b[0m line \u001b[0;36m5\n\u001b[1;32m      <a href='vscode-notebook-cell://ssh-remote%2B74.82.30.148/home/paperspace/Documents/object_detection/notebooks/yolov3_anchor_box_generation.ipynb#X50sdnNjb2RlLXJlbW90ZQ%3D%3D?line=1'>2</a>\u001b[0m mean_distances, anchorBoxes \u001b[39m=\u001b[39m [], []\n\u001b[1;32m      <a href='vscode-notebook-cell://ssh-remote%2B74.82.30.148/home/paperspace/Documents/object_detection/notebooks/yolov3_anchor_box_generation.ipynb#X50sdnNjb2RlLXJlbW90ZQ%3D%3D?line=3'>4</a>\u001b[0m \u001b[39mfor\u001b[39;00m cluster_k \u001b[39min\u001b[39;00m clusterList:\n\u001b[0;32m----> <a href='vscode-notebook-cell://ssh-remote%2B74.82.30.148/home/paperspace/Documents/object_detection/notebooks/yolov3_anchor_box_generation.ipynb#X50sdnNjb2RlLXJlbW90ZQ%3D%3D?line=4'>5</a>\u001b[0m     anchors, distances \u001b[39m=\u001b[39m KMeans(updated_boxes, k\u001b[39m=\u001b[39;49mcluster_k)\n\u001b[1;32m      <a href='vscode-notebook-cell://ssh-remote%2B74.82.30.148/home/paperspace/Documents/object_detection/notebooks/yolov3_anchor_box_generation.ipynb#X50sdnNjb2RlLXJlbW90ZQ%3D%3D?line=5'>6</a>\u001b[0m     indxs \u001b[39m=\u001b[39m torch\u001b[39m.\u001b[39margmax(distances, dim\u001b[39m=\u001b[39m\u001b[39m1\u001b[39m)\n\u001b[1;32m      <a href='vscode-notebook-cell://ssh-remote%2B74.82.30.148/home/paperspace/Documents/object_detection/notebooks/yolov3_anchor_box_generation.ipynb#X50sdnNjb2RlLXJlbW90ZQ%3D%3D?line=6'>7</a>\u001b[0m     filtered_distances \u001b[39m=\u001b[39m []\n",
      "\u001b[1;32m/home/paperspace/Documents/object_detection/notebooks/yolov3_anchor_box_generation.ipynb Cell 15\u001b[0m line \u001b[0;36m1\n\u001b[1;32m     <a href='vscode-notebook-cell://ssh-remote%2B74.82.30.148/home/paperspace/Documents/object_detection/notebooks/yolov3_anchor_box_generation.ipynb#X50sdnNjb2RlLXJlbW90ZQ%3D%3D?line=9'>10</a>\u001b[0m \u001b[39mwhile\u001b[39;00m \u001b[39mTrue\u001b[39;00m:\n\u001b[1;32m     <a href='vscode-notebook-cell://ssh-remote%2B74.82.30.148/home/paperspace/Documents/object_detection/notebooks/yolov3_anchor_box_generation.ipynb#X50sdnNjb2RlLXJlbW90ZQ%3D%3D?line=10'>11</a>\u001b[0m     \u001b[39m# calculate the distances \u001b[39;00m\n\u001b[1;32m     <a href='vscode-notebook-cell://ssh-remote%2B74.82.30.148/home/paperspace/Documents/object_detection/notebooks/yolov3_anchor_box_generation.ipynb#X50sdnNjb2RlLXJlbW90ZQ%3D%3D?line=11'>12</a>\u001b[0m     distances \u001b[39m=\u001b[39m IoU(bboxes, clusters)\n\u001b[0;32m---> <a href='vscode-notebook-cell://ssh-remote%2B74.82.30.148/home/paperspace/Documents/object_detection/notebooks/yolov3_anchor_box_generation.ipynb#X50sdnNjb2RlLXJlbW90ZQ%3D%3D?line=13'>14</a>\u001b[0m     nearest_clusters \u001b[39m=\u001b[39m torch\u001b[39m.\u001b[39;49margmax(distances, dim\u001b[39m=\u001b[39;49m\u001b[39m1\u001b[39;49m) \u001b[39m# 0, 1, 2 ... K   \u001b[39;00m\n\u001b[1;32m     <a href='vscode-notebook-cell://ssh-remote%2B74.82.30.148/home/paperspace/Documents/object_detection/notebooks/yolov3_anchor_box_generation.ipynb#X50sdnNjb2RlLXJlbW90ZQ%3D%3D?line=15'>16</a>\u001b[0m     \u001b[39mif\u001b[39;00m (last_clusters \u001b[39m==\u001b[39m nearest_clusters)\u001b[39m.\u001b[39mall(): \u001b[39m# break if nothing changes\u001b[39;00m\n\u001b[1;32m     <a href='vscode-notebook-cell://ssh-remote%2B74.82.30.148/home/paperspace/Documents/object_detection/notebooks/yolov3_anchor_box_generation.ipynb#X50sdnNjb2RlLXJlbW90ZQ%3D%3D?line=16'>17</a>\u001b[0m         iteration \u001b[39m+\u001b[39m\u001b[39m=\u001b[39m \u001b[39m1\u001b[39m\n",
      "\u001b[0;31mKeyboardInterrupt\u001b[0m: "
     ]
    }
   ],
   "source": [
    "clusterList = [1, 2, 3, 4, 5, 6, 7, 8, 9, 10, 11, 12, 13, 14, 15, 16, 17, 18, 19]\n",
    "mean_distances, anchorBoxes = [], []\n",
    "\n",
    "for cluster_k in clusterList:\n",
    "    anchors, distances = KMeans(updated_boxes, k=cluster_k)\n",
    "    indxs = torch.argmax(distances, dim=1)\n",
    "    filtered_distances = []\n",
    "    for i, distance in enumerate(distances):\n",
    "        filtered_distances.append(distance[indxs[i]].item())\n",
    "    mean_distances.append(np.mean(filtered_distances))\n",
    "    anchorBoxes.append(anchors)\n",
    "    \n",
    "plt.plot(clusterList, mean_distances)\n",
    "plt.scatter(clusterList, mean_distances)\n",
    "plt.title(\"Mean IoU Score\")\n",
    "plt.xlabel(\"Number of clusters\")\n",
    "plt.ylabel(\"IoU score\")"
   ]
  },
  {
   "cell_type": "code",
   "execution_count": 40,
   "metadata": {},
   "outputs": [
    {
     "ename": "KeyboardInterrupt",
     "evalue": "",
     "output_type": "error",
     "traceback": [
      "\u001b[0;31m---------------------------------------------------------------------------\u001b[0m",
      "\u001b[0;31mKeyboardInterrupt\u001b[0m                         Traceback (most recent call last)",
      "\u001b[1;32m/home/paperspace/Documents/object_detection/notebooks/yolov3_anchor_box_generation.ipynb Cell 8\u001b[0m line \u001b[0;36m1\n\u001b[0;32m----> <a href='vscode-notebook-cell://ssh-remote%2B74.82.30.148/home/paperspace/Documents/object_detection/notebooks/yolov3_anchor_box_generation.ipynb#X51sdnNjb2RlLXJlbW90ZQ%3D%3D?line=0'>1</a>\u001b[0m anchors, distances \u001b[39m=\u001b[39m KMeans(updated_boxes[:\u001b[39m100\u001b[39;49m], k\u001b[39m=\u001b[39;49m\u001b[39m3\u001b[39;49m)\n",
      "\u001b[1;32m/home/paperspace/Documents/object_detection/notebooks/yolov3_anchor_box_generation.ipynb Cell 8\u001b[0m line \u001b[0;36m1\n\u001b[1;32m      <a href='vscode-notebook-cell://ssh-remote%2B74.82.30.148/home/paperspace/Documents/object_detection/notebooks/yolov3_anchor_box_generation.ipynb#X51sdnNjb2RlLXJlbW90ZQ%3D%3D?line=8'>9</a>\u001b[0m iteration \u001b[39m=\u001b[39m \u001b[39m0\u001b[39m\n\u001b[1;32m     <a href='vscode-notebook-cell://ssh-remote%2B74.82.30.148/home/paperspace/Documents/object_detection/notebooks/yolov3_anchor_box_generation.ipynb#X51sdnNjb2RlLXJlbW90ZQ%3D%3D?line=9'>10</a>\u001b[0m \u001b[39mwhile\u001b[39;00m \u001b[39mTrue\u001b[39;00m:\n\u001b[1;32m     <a href='vscode-notebook-cell://ssh-remote%2B74.82.30.148/home/paperspace/Documents/object_detection/notebooks/yolov3_anchor_box_generation.ipynb#X51sdnNjb2RlLXJlbW90ZQ%3D%3D?line=10'>11</a>\u001b[0m     \u001b[39m# calculate the distances \u001b[39;00m\n\u001b[0;32m---> <a href='vscode-notebook-cell://ssh-remote%2B74.82.30.148/home/paperspace/Documents/object_detection/notebooks/yolov3_anchor_box_generation.ipynb#X51sdnNjb2RlLXJlbW90ZQ%3D%3D?line=11'>12</a>\u001b[0m     distances \u001b[39m=\u001b[39m IoU(bboxes, clusters)\n\u001b[1;32m     <a href='vscode-notebook-cell://ssh-remote%2B74.82.30.148/home/paperspace/Documents/object_detection/notebooks/yolov3_anchor_box_generation.ipynb#X51sdnNjb2RlLXJlbW90ZQ%3D%3D?line=13'>14</a>\u001b[0m     nearest_clusters \u001b[39m=\u001b[39m torch\u001b[39m.\u001b[39margmax(distances, dim\u001b[39m=\u001b[39m\u001b[39m1\u001b[39m) \u001b[39m# 0, 1, 2 ... K   \u001b[39;00m\n\u001b[1;32m     <a href='vscode-notebook-cell://ssh-remote%2B74.82.30.148/home/paperspace/Documents/object_detection/notebooks/yolov3_anchor_box_generation.ipynb#X51sdnNjb2RlLXJlbW90ZQ%3D%3D?line=15'>16</a>\u001b[0m     \u001b[39mif\u001b[39;00m (last_clusters \u001b[39m==\u001b[39m nearest_clusters)\u001b[39m.\u001b[39mall(): \u001b[39m# break if nothing changes\u001b[39;00m\n",
      "\u001b[1;32m/home/paperspace/Documents/object_detection/notebooks/yolov3_anchor_box_generation.ipynb Cell 8\u001b[0m line \u001b[0;36m2\n\u001b[1;32m      <a href='vscode-notebook-cell://ssh-remote%2B74.82.30.148/home/paperspace/Documents/object_detection/notebooks/yolov3_anchor_box_generation.ipynb#X51sdnNjb2RlLXJlbW90ZQ%3D%3D?line=0'>1</a>\u001b[0m \u001b[39mdef\u001b[39;00m \u001b[39mIoU\u001b[39m(clusters: torch\u001b[39m.\u001b[39mtensor, bboxes: torch\u001b[39m.\u001b[39mtensor):\n\u001b[0;32m----> <a href='vscode-notebook-cell://ssh-remote%2B74.82.30.148/home/paperspace/Documents/object_detection/notebooks/yolov3_anchor_box_generation.ipynb#X51sdnNjb2RlLXJlbW90ZQ%3D%3D?line=1'>2</a>\u001b[0m     iou_values \u001b[39m=\u001b[39m box_iou(clusters, bboxes)\n\u001b[1;32m      <a href='vscode-notebook-cell://ssh-remote%2B74.82.30.148/home/paperspace/Documents/object_detection/notebooks/yolov3_anchor_box_generation.ipynb#X51sdnNjb2RlLXJlbW90ZQ%3D%3D?line=2'>3</a>\u001b[0m     \u001b[39mreturn\u001b[39;00m iou_values\n",
      "File \u001b[0;32m~/.local/lib/python3.9/site-packages/torchvision/ops/boxes.py:271\u001b[0m, in \u001b[0;36mbox_iou\u001b[0;34m(boxes1, boxes2)\u001b[0m\n\u001b[1;32m    269\u001b[0m \u001b[39mif\u001b[39;00m \u001b[39mnot\u001b[39;00m torch\u001b[39m.\u001b[39mjit\u001b[39m.\u001b[39mis_scripting() \u001b[39mand\u001b[39;00m \u001b[39mnot\u001b[39;00m torch\u001b[39m.\u001b[39mjit\u001b[39m.\u001b[39mis_tracing():\n\u001b[1;32m    270\u001b[0m     _log_api_usage_once(box_iou)\n\u001b[0;32m--> 271\u001b[0m inter, union \u001b[39m=\u001b[39m _box_inter_union(boxes1, boxes2)\n\u001b[1;32m    272\u001b[0m iou \u001b[39m=\u001b[39m inter \u001b[39m/\u001b[39m union\n\u001b[1;32m    273\u001b[0m \u001b[39mreturn\u001b[39;00m iou\n",
      "File \u001b[0;32m~/.local/lib/python3.9/site-packages/torchvision/ops/boxes.py:242\u001b[0m, in \u001b[0;36m_box_inter_union\u001b[0;34m(boxes1, boxes2)\u001b[0m\n\u001b[1;32m    240\u001b[0m \u001b[39mdef\u001b[39;00m \u001b[39m_box_inter_union\u001b[39m(boxes1: Tensor, boxes2: Tensor) \u001b[39m-\u001b[39m\u001b[39m>\u001b[39m Tuple[Tensor, Tensor]:\n\u001b[1;32m    241\u001b[0m     area1 \u001b[39m=\u001b[39m box_area(boxes1)\n\u001b[0;32m--> 242\u001b[0m     area2 \u001b[39m=\u001b[39m box_area(boxes2)\n\u001b[1;32m    244\u001b[0m     lt \u001b[39m=\u001b[39m torch\u001b[39m.\u001b[39mmax(boxes1[:, \u001b[39mNone\u001b[39;00m, :\u001b[39m2\u001b[39m], boxes2[:, :\u001b[39m2\u001b[39m])  \u001b[39m# [N,M,2]\u001b[39;00m\n\u001b[1;32m    245\u001b[0m     rb \u001b[39m=\u001b[39m torch\u001b[39m.\u001b[39mmin(boxes1[:, \u001b[39mNone\u001b[39;00m, \u001b[39m2\u001b[39m:], boxes2[:, \u001b[39m2\u001b[39m:])  \u001b[39m# [N,M,2]\u001b[39;00m\n",
      "File \u001b[0;32m~/.local/lib/python3.9/site-packages/torchvision/ops/boxes.py:233\u001b[0m, in \u001b[0;36mbox_area\u001b[0;34m(boxes)\u001b[0m\n\u001b[1;32m    220\u001b[0m \u001b[39m\u001b[39m\u001b[39m\"\"\"\u001b[39;00m\n\u001b[1;32m    221\u001b[0m \u001b[39mComputes the area of a set of bounding boxes, which are specified by their\u001b[39;00m\n\u001b[1;32m    222\u001b[0m \u001b[39m(x1, y1, x2, y2) coordinates.\u001b[39;00m\n\u001b[0;32m   (...)\u001b[0m\n\u001b[1;32m    230\u001b[0m \u001b[39m    Tensor[N]: the area for each box\u001b[39;00m\n\u001b[1;32m    231\u001b[0m \u001b[39m\"\"\"\u001b[39;00m\n\u001b[1;32m    232\u001b[0m \u001b[39mif\u001b[39;00m \u001b[39mnot\u001b[39;00m torch\u001b[39m.\u001b[39mjit\u001b[39m.\u001b[39mis_scripting() \u001b[39mand\u001b[39;00m \u001b[39mnot\u001b[39;00m torch\u001b[39m.\u001b[39mjit\u001b[39m.\u001b[39mis_tracing():\n\u001b[0;32m--> 233\u001b[0m     _log_api_usage_once(box_area)\n\u001b[1;32m    234\u001b[0m boxes \u001b[39m=\u001b[39m _upcast(boxes)\n\u001b[1;32m    235\u001b[0m \u001b[39mreturn\u001b[39;00m (boxes[:, \u001b[39m2\u001b[39m] \u001b[39m-\u001b[39m boxes[:, \u001b[39m0\u001b[39m]) \u001b[39m*\u001b[39m (boxes[:, \u001b[39m3\u001b[39m] \u001b[39m-\u001b[39m boxes[:, \u001b[39m1\u001b[39m])\n",
      "File \u001b[0;32m~/.local/lib/python3.9/site-packages/torchvision/utils.py:561\u001b[0m, in \u001b[0;36m_log_api_usage_once\u001b[0;34m(obj)\u001b[0m\n\u001b[1;32m    543\u001b[0m \u001b[39mdef\u001b[39;00m \u001b[39m_log_api_usage_once\u001b[39m(obj: Any) \u001b[39m-\u001b[39m\u001b[39m>\u001b[39m \u001b[39mNone\u001b[39;00m:\n\u001b[1;32m    545\u001b[0m \u001b[39m    \u001b[39m\u001b[39m\"\"\"\u001b[39;00m\n\u001b[1;32m    546\u001b[0m \u001b[39m    Logs API usage(module and name) within an organization.\u001b[39;00m\n\u001b[1;32m    547\u001b[0m \u001b[39m    In a large ecosystem, it's often useful to track the PyTorch and\u001b[39;00m\n\u001b[0;32m   (...)\u001b[0m\n\u001b[1;32m    559\u001b[0m \u001b[39m        obj (class instance or method): an object to extract info from.\u001b[39;00m\n\u001b[1;32m    560\u001b[0m \u001b[39m    \"\"\"\u001b[39;00m\n\u001b[0;32m--> 561\u001b[0m     \u001b[39mif\u001b[39;00m \u001b[39mnot\u001b[39;00m obj\u001b[39m.\u001b[39;49m\u001b[39m__module__\u001b[39;49m\u001b[39m.\u001b[39mstartswith(\u001b[39m\"\u001b[39m\u001b[39mtorchvision\u001b[39m\u001b[39m\"\u001b[39m):\n\u001b[1;32m    562\u001b[0m         \u001b[39mreturn\u001b[39;00m\n\u001b[1;32m    563\u001b[0m     name \u001b[39m=\u001b[39m obj\u001b[39m.\u001b[39m\u001b[39m__class__\u001b[39m\u001b[39m.\u001b[39m\u001b[39m__name__\u001b[39m\n",
      "\u001b[0;31mKeyboardInterrupt\u001b[0m: "
     ]
    }
   ],
   "source": [
    "anchors, distances = KMeans(updated_boxes[:100], k=3)"
   ]
  },
  {
   "cell_type": "code",
   "execution_count": 37,
   "metadata": {},
   "outputs": [
    {
     "data": {
      "text/plain": [
       "tensor([[128.1476, 118.9425, 127.1325, 176.1158],\n",
       "        [ 58.8760,  68.8199, 302.0871, 299.3314]])"
      ]
     },
     "execution_count": 37,
     "metadata": {},
     "output_type": "execute_result"
    }
   ],
   "source": [
    "anchors"
   ]
  },
  {
   "cell_type": "code",
   "execution_count": 39,
   "metadata": {},
   "outputs": [],
   "source": [
    "# distances"
   ]
  },
  {
   "cell_type": "code",
   "execution_count": 32,
   "metadata": {},
   "outputs": [
    {
     "data": {
      "text/plain": [
       "tensor([[ 61.4400,  41.2657, 271.3600, 423.3552],\n",
       "        [142.3360,  45.7143,  14.3360, 356.5714],\n",
       "        [ 14.3360, 165.2565, 382.9760, 109.1873],\n",
       "        ...,\n",
       "        [ 88.0640, 133.7658, 117.7600, 113.7778],\n",
       "        [  2.0480,  94.2080, 465.9200, 330.4107],\n",
       "        [206.8480,  78.6815,  -5.1200, 209.8174]])"
      ]
     },
     "execution_count": 32,
     "metadata": {},
     "output_type": "execute_result"
    }
   ],
   "source": []
  },
  {
   "cell_type": "code",
   "execution_count": null,
   "metadata": {},
   "outputs": [],
   "source": []
  }
 ],
 "metadata": {
  "kernelspec": {
   "display_name": "base_env",
   "language": "python",
   "name": "base_env"
  },
  "language_info": {
   "codemirror_mode": {
    "name": "ipython",
    "version": 3
   },
   "file_extension": ".py",
   "mimetype": "text/x-python",
   "name": "python",
   "nbconvert_exporter": "python",
   "pygments_lexer": "ipython3",
   "version": "3.9.16"
  }
 },
 "nbformat": 4,
 "nbformat_minor": 2
}
